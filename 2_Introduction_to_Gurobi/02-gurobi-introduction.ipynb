{
 "cells": [
  {
   "cell_type": "markdown",
   "metadata": {},
   "source": [
    "# Week 2 - Gurobi Introduction 🚀"
   ]
  },
  {
   "cell_type": "markdown",
   "metadata": {},
   "source": [
    "# 0 - Learning Outcomes\n",
    " - Intro, setup and basics.\n",
    " - Introduction to numpy and pandas.\n",
    " - Plotting."
   ]
  },
  {
   "cell_type": "markdown",
   "metadata": {},
   "source": [
    "# 1 - What is Gurobi?\n",
    "State-of-the-art solvers for mathematical programming problems:\n",
    "- Linear programming (LP).\n",
    "- Mixed-integer linear programming (MILP).\n",
    "- Mixed-integer quadratic programming (MIQP).\n",
    "- Quadratic programming (QP).\n",
    "- Quadratically constrained programming (QCP).\n",
    "- Mixed-integer quadratically constrained programming (MIQCP)."
   ]
  },
  {
   "cell_type": "markdown",
   "metadata": {},
   "source": [
    "# 2 - Setup\n",
    "You can find the full documentation for installing on the website: https://support.gurobi.com/hc/en-us/articles/360044290292-How-do-I-install-Gurobi-for-Python\n",
    "\n",
    "We can access Gurobi using it's Python API. You can use pip or conda to install Gurobi into your currently active Python environment.\n",
    "\n",
    "```python -m pip install gurobipy```\n",
    "\n",
    "Upon sucessfull installation, you should see `gurobipy` amongst the installed packages listed by typing:\n",
    "\n",
    "```python -m pip list```\n",
    "\n",
    "In order to use Gurobi, you need to get a free academic license: https://support.gurobi.com/hc/en-us/articles/360040541251-How-do-I-obtain-a-free-academic-license\n",
    "\n",
    "Once you have downloaded the licence, you can find out where to place the `gurobi.lic` file here: https://support.gurobi.com/hc/en-us/articles/360013417211-Where-do-I-place-the-Gurobi-license-file-gurobi-lic-"
   ]
  },
  {
   "cell_type": "markdown",
   "metadata": {},
   "source": [
    "# 3 - Gurobi Basics\n",
    "Suppose we want to solve the following:\n",
    "\n",
    "$$\n",
    "  \\begin{align}\n",
    "      \\textrm{maximize} \\quad &x + y \\\\\n",
    "      \\textrm{subject to} \\quad &2x - 2y \\leq 1 \\\\\n",
    "      &-8x + 10y \\leq 13 \\\\\n",
    "      &x, y \\in \\mathbb{Z} \\\\\n",
    "  \\end{align}\n",
    "$$"
   ]
  },
  {
   "cell_type": "markdown",
   "metadata": {},
   "source": [
    "## 3.1 - Importing the module\n",
    "- It is common to make Gurobi methods available through a `gp.` prefix.\n",
    "- We also make the `GRB` class available without a prefix as we will use this alot to set attributes and parameters."
   ]
  },
  {
   "cell_type": "code",
   "execution_count": 1,
   "metadata": {},
   "outputs": [],
   "source": [
    "import gurobipy as gp\n",
    "from gurobipy import GRB"
   ]
  },
  {
   "cell_type": "markdown",
   "metadata": {},
   "source": [
    "## 3.2 - Gurobi environments\n",
    "- Building and solving a Gurobi model typically requires an environment.\n",
    "- There is also the default environment which simplifies experimentation, but it is best practice to create an environment explicitly.\n",
    "\n",
    "```\n",
    "with gp.Env() as env, gp.Model(env=env) as model:\n",
    "    x = model.addVar()\n",
    "    ...\n",
    "    model.optimize()\n",
    "    ...\n",
    "```\n",
    "\n",
    "\n",
    "- At the end of the block, the environment is closed.\n",
    "- The resources are then returned to the compute."
   ]
  },
  {
   "cell_type": "markdown",
   "metadata": {},
   "source": [
    "## 3.3 - Building a model\n",
    "A Gurobi model holds a single optimization problem, comprising:\n",
    "- Variables\n",
    "- Constraints\n",
    "- Bounds\n",
    "- Constants"
   ]
  },
  {
   "cell_type": "code",
   "execution_count": 22,
   "metadata": {},
   "outputs": [],
   "source": [
    "model = gp.Model(\"my_mip_model\") "
   ]
  },
  {
   "cell_type": "markdown",
   "metadata": {},
   "source": [
    "## 3.4 - Adding variables\n",
    "- We add a variable to the model using the `Model.addVar` method.\n",
    "- You can add more than one variable at a time with `Model.addVars`.\n",
    "- A variable needs to be associated with a model.\n",
    "- Each variable is asssigned a type and a name. "
   ]
  },
  {
   "cell_type": "code",
   "execution_count": 23,
   "metadata": {},
   "outputs": [],
   "source": [
    "x = model.addVar(vtype=GRB.INTEGER, name=\"x\")\n",
    "y = model.addVar(vtype=GRB.INTEGER, name=\"y\")"
   ]
  },
  {
   "cell_type": "markdown",
   "metadata": {},
   "source": [
    "## 3.5 - Adding constraints\n",
    "- We add a constraint to the model using the `Model.addConstr` method.\n",
    "- We can also name constraints."
   ]
  },
  {
   "cell_type": "code",
   "execution_count": null,
   "metadata": {},
   "outputs": [],
   "source": [
    "model.addConstr(2 * x - 2 * y <= -1, \"c0\")\n",
    "model.addConstr(-8 * x + 10 * y <= 13, \"c1\")"
   ]
  },
  {
   "cell_type": "markdown",
   "metadata": {},
   "source": [
    "## 3.6 - Objective\n",
    "- We add the objective to the model using the `Model.setObjective` method.\n",
    "- Here we can indicate whether it is a minimization or maximization problem."
   ]
  },
  {
   "cell_type": "code",
   "execution_count": 25,
   "metadata": {},
   "outputs": [],
   "source": [
    "model.setObjective(x + y, GRB.MAXIMIZE)"
   ]
  },
  {
   "cell_type": "markdown",
   "metadata": {},
   "source": [
    "## 3.7 - Write optimization model\n",
    "- Using the `Model.write` method we can create an LP file to view our model. \n",
    "- We can open the file and check if there are errors in our model formulation - very helpful for debugging"
   ]
  },
  {
   "cell_type": "code",
   "execution_count": null,
   "metadata": {},
   "outputs": [],
   "source": [
    "model.write(\"model.lp\")"
   ]
  },
  {
   "cell_type": "markdown",
   "metadata": {},
   "source": [
    "## 3.8 - Solving the model"
   ]
  },
  {
   "cell_type": "markdown",
   "metadata": {},
   "source": [
    "- Now that we have built our model, we can optimize it using the `Model.optimize` method."
   ]
  },
  {
   "cell_type": "code",
   "execution_count": null,
   "metadata": {},
   "outputs": [],
   "source": [
    "model.optimize()"
   ]
  },
  {
   "cell_type": "markdown",
   "metadata": {},
   "source": [
    "## 3.8 - Reporting results"
   ]
  },
  {
   "cell_type": "markdown",
   "metadata": {},
   "source": [
    "- Once the model has solved (hopefully sucessfully), we can access the results."
   ]
  },
  {
   "cell_type": "code",
   "execution_count": null,
   "metadata": {},
   "outputs": [],
   "source": [
    "for v in model.getVars():\n",
    "    print('%s %g' % (v.VarName, v.X))"
   ]
  },
  {
   "cell_type": "markdown",
   "metadata": {},
   "source": [
    "- We can also query the ObjVal attribute on the model to obtain the objective value for the current solution"
   ]
  },
  {
   "cell_type": "code",
   "execution_count": null,
   "metadata": {},
   "outputs": [],
   "source": [
    "print('Obj: %g' % model.ObjVal)"
   ]
  },
  {
   "cell_type": "markdown",
   "metadata": {},
   "source": [
    "# 4 - Matrix model\n",
    "We can re-write our problem in canonical form as:\n",
    "\n",
    "$$\n",
    "  \\begin{align}\n",
    "      \\textrm{maximize} \\quad &c^{\\top} x \\\\\n",
    "      \\textrm{subject to} \\quad &Ax \\leq b \\\\\n",
    "      &x \\in \\mathbb{Z}^3 \\\\\n",
    "  \\end{align}\n",
    "$$"
   ]
  },
  {
   "cell_type": "code",
   "execution_count": 41,
   "metadata": {},
   "outputs": [],
   "source": [
    "import numpy as np\n",
    "import scipy.sparse as sp\n",
    "\n",
    "model = gp.Model(\"my_mip_model\") "
   ]
  },
  {
   "cell_type": "markdown",
   "metadata": {},
   "source": [
    "- A matrix variable is added through the Model.addMVar method on a model object. In this case the matrix variable consists of a 1-D array of 3 binary variables. Variables are always associated with a particular model."
   ]
  },
  {
   "cell_type": "code",
   "execution_count": 42,
   "metadata": {},
   "outputs": [],
   "source": [
    "x = model.addMVar(shape=2, vtype=GRB.INTEGER, name=\"x\")"
   ]
  },
  {
   "cell_type": "markdown",
   "metadata": {},
   "source": [
    "- The next step in the example is to add our two linear constraints.\n",
    "- This is done by building a sparse matrix that captures the constraint matrix:"
   ]
  },
  {
   "cell_type": "code",
   "execution_count": 43,
   "metadata": {},
   "outputs": [],
   "source": [
    "# Build (sparse) constraint matrix\n",
    "val = np.array([1.0, 2.0, 3.0, -1.0, -1.0])\n",
    "row = np.array([0, 0, 0, 1, 1])\n",
    "col = np.array([0, 1, 2, 0, 1])\n",
    "\n",
    "A = sp.csr_matrix((val, (row, col)), shape=(2, 3))"
   ]
  },
  {
   "cell_type": "code",
   "execution_count": 44,
   "metadata": {},
   "outputs": [],
   "source": [
    "A = np.array([[2, -2], [-8, 10]])"
   ]
  },
  {
   "cell_type": "markdown",
   "metadata": {},
   "source": [
    "The matrix has two rows, one for each constraint, and three columns, one for each variable in our matrix variable. The row and col arrays gives the row and column indices for the 5 non-zero values in the sparse matrix, respectively. The val array gives the numerical values. Note that we multiply the greater-than constraint by -1 to transform it to a less-than constraint.\n",
    "\n",
    "We also capture the right-hand side in a NumPy array:"
   ]
  },
  {
   "cell_type": "code",
   "execution_count": 45,
   "metadata": {},
   "outputs": [],
   "source": [
    "# Build rhs vector\n",
    "rhs = np.array([-1, 13])"
   ]
  },
  {
   "cell_type": "markdown",
   "metadata": {},
   "source": [
    "We then use the overloaded @ operator to build a linear matrix expression, and then use the overloaded less-than-or-equal operator to add two constraints (one for each row in the matrix expression) using Model.addConstr:"
   ]
  },
  {
   "cell_type": "code",
   "execution_count": null,
   "metadata": {},
   "outputs": [],
   "source": [
    "model.addConstr(A @ x <= rhs, name=\"c\")"
   ]
  },
  {
   "cell_type": "markdown",
   "metadata": {},
   "source": [
    "The next step is to set the optimization objective:\n",
    "The objective is built here by computing a dot product between a constant vector and our matrix variable using the overloaded @ operator. Note that the constant vector must have the same length as our matrix variable.\n",
    "\n",
    "The second argument indicates that the sense is maximization.\n"
   ]
  },
  {
   "cell_type": "code",
   "execution_count": 47,
   "metadata": {},
   "outputs": [],
   "source": [
    "c = np.array([[1], [1]])\n",
    "model.setObjective(c.T @ x, GRB.MAXIMIZE)"
   ]
  },
  {
   "cell_type": "markdown",
   "metadata": {},
   "source": [
    "After the model setup we can check the formulation to see if we made an error. It shows all single constraints:"
   ]
  },
  {
   "cell_type": "code",
   "execution_count": 48,
   "metadata": {},
   "outputs": [],
   "source": [
    "model.write(\"model.lp\")"
   ]
  },
  {
   "cell_type": "markdown",
   "metadata": {},
   "source": [
    "Now that the model has been built, the next step is to optimize it:\n",
    "\n"
   ]
  },
  {
   "cell_type": "code",
   "execution_count": null,
   "metadata": {},
   "outputs": [],
   "source": [
    "model.optimize()"
   ]
  },
  {
   "cell_type": "markdown",
   "metadata": {},
   "source": [
    "Once the optimization is complete, we can query the values of the attributes. In particular, we can query the X variable attributes to obtain the solution value for each variable:"
   ]
  },
  {
   "cell_type": "code",
   "execution_count": null,
   "metadata": {},
   "outputs": [],
   "source": [
    "print(x.X)"
   ]
  },
  {
   "cell_type": "markdown",
   "metadata": {},
   "source": [
    "We can also query the ObjVal attribute on the model to obtain the objective value for the current solution:"
   ]
  },
  {
   "cell_type": "code",
   "execution_count": null,
   "metadata": {},
   "outputs": [],
   "source": [
    "print('Obj: %g' % model.ObjVal)"
   ]
  }
 ],
 "metadata": {
  "kernelspec": {
   "display_name": "day-ahead",
   "language": "python",
   "name": "python3"
  },
  "language_info": {
   "codemirror_mode": {
    "name": "ipython",
    "version": 3
   },
   "file_extension": ".py",
   "mimetype": "text/x-python",
   "name": "python",
   "nbconvert_exporter": "python",
   "pygments_lexer": "ipython3",
   "version": "3.12.4"
  }
 },
 "nbformat": 4,
 "nbformat_minor": 2
}
