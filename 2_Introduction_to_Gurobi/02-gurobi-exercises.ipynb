{
 "cells": [
  {
   "cell_type": "markdown",
   "metadata": {},
   "source": [
    "# Optimal Generator Dispatch\n",
    "\n",
    "## 1 - Problem Description\n",
    "\n",
    "Transmission system operators around the world typically employ some form of mathematical programming to plan and operate power grids. In the United Kingdom, each day is split into six discrete 4-hour blocks, called *Electricity Forward Agreement* (EFA) blocks, each with an anticipated total demand. In this problem, you will determine which of the available generator units should be dispatched to meet said demand in each of the EFA blocks so as to minimize total costs. In addition, you must consider the necessity for a reserve capacity, that is, the chosen units need the capability to increase their output while still adhering to their specified operating limits. This is essential to handle a situation where real demand surpasses anticipated demand."
   ]
  },
  {
   "metadata": {},
   "cell_type": "markdown",
   "source": "test"
  },
  {
   "cell_type": "markdown",
   "metadata": {},
   "source": [
    "## 2 - Available Data\n",
    "Several files are available that contain the required the data to formulate the problem:\n",
    "- Anticpated demand in each EFA block: `./demand.csv`\n",
    "- Generator unit types, number of each type available and the operating limits of each: `./generators.csv`\n",
    "- The costs associated with each generator unit type, including a fixed base cost for running the unit (GBP), a marginal cost for generation above its minimum output (GBP/MW), and a fixed start up cost for switching a generator unit on (GBP): `./costs.csv`\n",
    "\n",
    "To consdider reserve, assume the set of dispatched generator units should be able to produce 115% of predicted demand. Assume that there are already 5 generator units of each time running before the start of the first EFA block."
   ]
  },
  {
   "cell_type": "markdown",
   "metadata": {},
   "source": [
    "## 3 - Problem Formulation\n",
    "\n",
    "### 3.1 - Decision Variables\n",
    "- Number of generator units of type $t$ that are on during EFA block $b$: $N^{\\text{gen}}_{t,b}$\n",
    "- Power output from all generators of type $t$ during time period $p$: $P_{t,b}$\n",
    "- Number of generators of type $t$ that startup in EFA block $b$: $N^{\\text{startups}}_{t,b}$\n",
    "\n",
    "### 3.2 - Objective\n",
    "\n",
    "\\begin{equation}\n",
    "\\textbf{minimize} \n",
    "\\sum_{t, b}{C^{\\textrm{base}}_t* N^{\\text{gen}}_{t,b}} + \\sum_{t, b}{C^{\\text{running}}_t*(P_{t,b} - P^{\\text{min}}_t}) + \\sum_{t, b}{C^{\\text{startup}}_t* N^{\\text{startups}}_{t,b}}\n",
    "\\end{equation}\n",
    "\n",
    "### 3.3 - Constraints\n",
    "- The power output of each generator unit must satisfy the specified operating limits.\n",
    "- In each EFA block, the dispatched generator units must not violate reserve requirements.\n",
    "- The dispatched generator units must also provide enough power to satisfy the anticipated demand.\n",
    "- The total number of generator units on during each EFA block cannot exceed the number available."
   ]
  },
  {
   "cell_type": "markdown",
   "metadata": {},
   "source": [
    "## 4 - Tasks\n",
    "1. Import the required data.\n",
    "2. Complete the mathematical formulation and implement the corresponding program in Python with Gurobi.\n",
    "3. Evaluate the following:\n",
    "    - The total cost of satisyfing the anticipated demand.\n",
    "    - In each EFA block, the number of generator units that are active, as well as the number that must be switched on."
   ]
  },
  {
   "cell_type": "markdown",
   "metadata": {},
   "source": [
    "## 5 - Solution"
   ]
  },
  {
   "metadata": {},
   "cell_type": "markdown",
   "source": "### Imports"
  },
  {
   "cell_type": "code",
   "metadata": {
    "ExecuteTime": {
     "end_time": "2024-09-11T14:01:28.126874Z",
     "start_time": "2024-09-11T14:01:27.690599Z"
    }
   },
   "source": [
    "import gurobipy as gp\n",
    "from gurobipy import GRB\n",
    "import numpy as np\n",
    "import pandas as pd"
   ],
   "outputs": [],
   "execution_count": 5
  },
  {
   "metadata": {},
   "cell_type": "markdown",
   "source": "### 1. Import Data"
  },
  {
   "metadata": {
    "ExecuteTime": {
     "end_time": "2024-09-11T14:28:30.635026Z",
     "start_time": "2024-09-11T14:28:30.630131Z"
    }
   },
   "cell_type": "code",
   "source": [
    "costs = pd.read_csv('costs.csv')\n",
    "demand = pd.read_csv('demand.csv')\n",
    "generators = pd.read_csv('generators.csv')"
   ],
   "outputs": [],
   "execution_count": 10
  },
  {
   "metadata": {
    "ExecuteTime": {
     "end_time": "2024-09-11T14:02:16.679790Z",
     "start_time": "2024-09-11T14:02:16.674247Z"
    }
   },
   "cell_type": "code",
   "source": [
    "costs\n",
    "# Base: fixed base cost of running the unit GBP\n",
    "# Running: marginal cost for generating above its minimum output GBP/MW\n",
    "# Startup: fixed switching a generator unit on GBP"
   ],
   "outputs": [
    {
     "data": {
      "text/plain": [
       "   base  running  startup\n",
       "0  1000      2.0     2000\n",
       "1  2600      1.3     1000\n",
       "2  3000      3.0      500"
      ],
      "text/html": [
       "<div>\n",
       "<style scoped>\n",
       "    .dataframe tbody tr th:only-of-type {\n",
       "        vertical-align: middle;\n",
       "    }\n",
       "\n",
       "    .dataframe tbody tr th {\n",
       "        vertical-align: top;\n",
       "    }\n",
       "\n",
       "    .dataframe thead th {\n",
       "        text-align: right;\n",
       "    }\n",
       "</style>\n",
       "<table border=\"1\" class=\"dataframe\">\n",
       "  <thead>\n",
       "    <tr style=\"text-align: right;\">\n",
       "      <th></th>\n",
       "      <th>base</th>\n",
       "      <th>running</th>\n",
       "      <th>startup</th>\n",
       "    </tr>\n",
       "  </thead>\n",
       "  <tbody>\n",
       "    <tr>\n",
       "      <th>0</th>\n",
       "      <td>1000</td>\n",
       "      <td>2.0</td>\n",
       "      <td>2000</td>\n",
       "    </tr>\n",
       "    <tr>\n",
       "      <th>1</th>\n",
       "      <td>2600</td>\n",
       "      <td>1.3</td>\n",
       "      <td>1000</td>\n",
       "    </tr>\n",
       "    <tr>\n",
       "      <th>2</th>\n",
       "      <td>3000</td>\n",
       "      <td>3.0</td>\n",
       "      <td>500</td>\n",
       "    </tr>\n",
       "  </tbody>\n",
       "</table>\n",
       "</div>"
      ]
     },
     "execution_count": 7,
     "metadata": {},
     "output_type": "execute_result"
    }
   ],
   "execution_count": 7
  },
  {
   "metadata": {},
   "cell_type": "markdown",
   "source": [
    "- Anticpated demand in each EFA block: `./demand.csv`\n",
    "- Generator unit types, number of each type available and the operating limits of each: `./generators.csv`"
   ]
  },
  {
   "metadata": {
    "ExecuteTime": {
     "end_time": "2024-09-11T14:37:20.813799Z",
     "start_time": "2024-09-11T14:37:20.810065Z"
    }
   },
   "cell_type": "code",
   "source": [
    "demand\n",
    "# Power: the demanding power for each block\n",
    "# efa_block: the block we are"
   ],
   "outputs": [
    {
     "data": {
      "text/plain": [
       "   power  efa_block\n",
       "0  15000          1\n",
       "1  30000          2\n",
       "2  25000          3\n",
       "3  25000          4\n",
       "4  40000          5\n",
       "5  27000          6"
      ],
      "text/html": [
       "<div>\n",
       "<style scoped>\n",
       "    .dataframe tbody tr th:only-of-type {\n",
       "        vertical-align: middle;\n",
       "    }\n",
       "\n",
       "    .dataframe tbody tr th {\n",
       "        vertical-align: top;\n",
       "    }\n",
       "\n",
       "    .dataframe thead th {\n",
       "        text-align: right;\n",
       "    }\n",
       "</style>\n",
       "<table border=\"1\" class=\"dataframe\">\n",
       "  <thead>\n",
       "    <tr style=\"text-align: right;\">\n",
       "      <th></th>\n",
       "      <th>power</th>\n",
       "      <th>efa_block</th>\n",
       "    </tr>\n",
       "  </thead>\n",
       "  <tbody>\n",
       "    <tr>\n",
       "      <th>0</th>\n",
       "      <td>15000</td>\n",
       "      <td>1</td>\n",
       "    </tr>\n",
       "    <tr>\n",
       "      <th>1</th>\n",
       "      <td>30000</td>\n",
       "      <td>2</td>\n",
       "    </tr>\n",
       "    <tr>\n",
       "      <th>2</th>\n",
       "      <td>25000</td>\n",
       "      <td>3</td>\n",
       "    </tr>\n",
       "    <tr>\n",
       "      <th>3</th>\n",
       "      <td>25000</td>\n",
       "      <td>4</td>\n",
       "    </tr>\n",
       "    <tr>\n",
       "      <th>4</th>\n",
       "      <td>40000</td>\n",
       "      <td>5</td>\n",
       "    </tr>\n",
       "    <tr>\n",
       "      <th>5</th>\n",
       "      <td>27000</td>\n",
       "      <td>6</td>\n",
       "    </tr>\n",
       "  </tbody>\n",
       "</table>\n",
       "</div>"
      ]
     },
     "execution_count": 12,
     "metadata": {},
     "output_type": "execute_result"
    }
   ],
   "execution_count": 12
  },
  {
   "metadata": {
    "ExecuteTime": {
     "end_time": "2024-09-11T14:28:39.545588Z",
     "start_time": "2024-09-11T14:28:39.541587Z"
    }
   },
   "cell_type": "code",
   "source": [
    "generators\n",
    "# num_of generator: the number of generator we have for each type\n",
    "# min_power: minimum power to be used\n",
    "# max_power: maximum power can be used"
   ],
   "outputs": [
    {
     "data": {
      "text/plain": [
       "   type  num_generators  min_power  max_power\n",
       "0     1              12        850       2000\n",
       "1     2              10       1250       1750\n",
       "2     3               5       1500       4000"
      ],
      "text/html": [
       "<div>\n",
       "<style scoped>\n",
       "    .dataframe tbody tr th:only-of-type {\n",
       "        vertical-align: middle;\n",
       "    }\n",
       "\n",
       "    .dataframe tbody tr th {\n",
       "        vertical-align: top;\n",
       "    }\n",
       "\n",
       "    .dataframe thead th {\n",
       "        text-align: right;\n",
       "    }\n",
       "</style>\n",
       "<table border=\"1\" class=\"dataframe\">\n",
       "  <thead>\n",
       "    <tr style=\"text-align: right;\">\n",
       "      <th></th>\n",
       "      <th>type</th>\n",
       "      <th>num_generators</th>\n",
       "      <th>min_power</th>\n",
       "      <th>max_power</th>\n",
       "    </tr>\n",
       "  </thead>\n",
       "  <tbody>\n",
       "    <tr>\n",
       "      <th>0</th>\n",
       "      <td>1</td>\n",
       "      <td>12</td>\n",
       "      <td>850</td>\n",
       "      <td>2000</td>\n",
       "    </tr>\n",
       "    <tr>\n",
       "      <th>1</th>\n",
       "      <td>2</td>\n",
       "      <td>10</td>\n",
       "      <td>1250</td>\n",
       "      <td>1750</td>\n",
       "    </tr>\n",
       "    <tr>\n",
       "      <th>2</th>\n",
       "      <td>3</td>\n",
       "      <td>5</td>\n",
       "      <td>1500</td>\n",
       "      <td>4000</td>\n",
       "    </tr>\n",
       "  </tbody>\n",
       "</table>\n",
       "</div>"
      ]
     },
     "execution_count": 11,
     "metadata": {},
     "output_type": "execute_result"
    }
   ],
   "execution_count": 11
  },
  {
   "metadata": {},
   "cell_type": "markdown",
   "source": "### 2. Mathematical Formulation"
  },
  {
   "metadata": {},
   "cell_type": "markdown",
   "source": "Dispatched generators must produce 115% of the predicted demand:"
  },
  {
   "metadata": {
    "ExecuteTime": {
     "end_time": "2024-09-11T14:57:31.236434Z",
     "start_time": "2024-09-11T14:57:31.234425Z"
    }
   },
   "cell_type": "code",
   "source": "reserve = 1.15",
   "outputs": [],
   "execution_count": 13
  },
  {
   "metadata": {},
   "cell_type": "code",
   "outputs": [],
   "execution_count": null,
   "source": [
    "# Building model\n",
    "\n",
    "model = gp.Model(\"Gurobi_exercise\") \n",
    "\n",
    "# Variables\n",
    "\n",
    "nG = model.addVar(vtype=GRB.INTEGER, name=\"numGenerators\")\n",
    "PO = model.addVar(vtype=GRB.INTEGER, name=\"PowerOutput\")\n",
    "nGs = model.addVar(vtype=GRB.INTEGER, name=\"numGeneratorsStarters\")\n",
    "\n",
    "# Constrains\n",
    "\n"
   ]
  }
 ],
 "metadata": {
  "kernelspec": {
   "display_name": "day-ahead",
   "language": "python",
   "name": "python3"
  },
  "language_info": {
   "codemirror_mode": {
    "name": "ipython",
    "version": 3
   },
   "file_extension": ".py",
   "mimetype": "text/x-python",
   "name": "python",
   "nbconvert_exporter": "python",
   "pygments_lexer": "ipython3",
   "version": "3.12.4"
  }
 },
 "nbformat": 4,
 "nbformat_minor": 2
}
