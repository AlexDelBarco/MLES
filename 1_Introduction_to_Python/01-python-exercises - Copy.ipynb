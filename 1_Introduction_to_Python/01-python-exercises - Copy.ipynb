{
 "cells": [
  {
   "cell_type": "markdown",
   "id": "197053c7",
   "metadata": {},
   "source": [
    "# Part 1 - Setup\n",
    "\n",
    "### 1.1 - Install Python\n",
    "Feel free to set up Python in your preferred manner. If you're considering Anaconda, you can refer to the documentation provided at: https://docs.anaconda.com/free/anaconda/install/index.html\n",
    "\n",
    "### 1. 2 - The `python` interpreter\n",
    "- Upon successful installation of Python, you ought to be able to launch the terminal and enter python within the command line.\n",
    "- Experiment with entering various operations to observe their functionality. For instance:\n",
    "    * `2 + 3`\n",
    "    * `2.0 + 3`\n",
    "    * `print(\"hello world\")`\n",
    "- Type `exit()` to exit.\n",
    "\n",
    "### 1.3 - Explore `jupyter notebook`\n",
    "- If you haven't installed Jupyter yet, and want to, one approach is to proceed by following the guidelines outlined here: https://test-jupyter.readthedocs.io/en/latest/install.html\n",
    "- Type `jupyter notebook` to spin up a notebook server.\n",
    "- Chances are, your web browser will open automatically; if it doesn't, simply determine the active port and access it through your browser.\n",
    "\n",
    "### 1.4 - Run a script from the command line\n",
    "- Go to your working directory and make a script named test-script.py.\n",
    "- Craft the necessary code so that executing this script results in printing `Hello World` within the terminal.\n",
    "- Execute the script to observe the outcome."
   ]
  },
  {
   "cell_type": "markdown",
   "id": "ff085862",
   "metadata": {},
   "source": [
    "# Part 2 - Lists, Dictionaries and Functions\n",
    "\n",
    "### 2.1 - Revise this loop to build a list containing integers ranging from 6 to 10."
   ]
  },
  {
   "cell_type": "code",
   "execution_count": 1,
   "id": "9b4c8d30",
   "metadata": {},
   "outputs": [
    {
     "name": "stdout",
     "output_type": "stream",
     "text": [
      "[]\n"
     ]
    }
   ],
   "source": [
    "my_list = []\n",
    "for i in []:\n",
    "    my_list.append(i)\n",
    "print(my_list)"
   ]
  },
  {
   "cell_type": "markdown",
   "id": "efbd1fbf",
   "metadata": {},
   "source": [
    "### 2.2 - Do the same with [list comprehension](https://realpython.com/list-comprehension-python/) using one line of code."
   ]
  },
  {
   "cell_type": "code",
   "execution_count": null,
   "id": "aa4f320d",
   "metadata": {},
   "outputs": [],
   "source": [
    "my_list_2 = []\n",
    "print(my_list_2)"
   ]
  },
  {
   "cell_type": "markdown",
   "id": "fbcd0d0d",
   "metadata": {},
   "source": [
    "### 2.3 - Revise the following to code to print just the 2nd, 3rd, and 4th elements in the list."
   ]
  },
  {
   "cell_type": "code",
   "execution_count": null,
   "id": "ed550815",
   "metadata": {},
   "outputs": [],
   "source": [
    "print(my_list_2)"
   ]
  },
  {
   "cell_type": "markdown",
   "id": "a2416e60",
   "metadata": {},
   "source": [
    "### 2.3 - Create a dictionary comprising the number of characters of each word in `list_of_fruits`."
   ]
  },
  {
   "cell_type": "markdown",
   "id": "1d491564",
   "metadata": {},
   "source": [
    "For example, `['apple', 'orange']` -> `{'apple': 5, 'orange': 6}`"
   ]
  },
  {
   "cell_type": "code",
   "execution_count": null,
   "id": "28b0d1b5",
   "metadata": {},
   "outputs": [],
   "source": [
    "list_of_fruits = ['apple', 'orange', 'pear', 'strawberry', 'peach', 'watermelon', 'pineapple']"
   ]
  },
  {
   "cell_type": "markdown",
   "id": "6034c8ef",
   "metadata": {},
   "source": [
    "### 2.4 - We forgot about bananas, add `bananas` to `list_of_fruits`."
   ]
  },
  {
   "cell_type": "code",
   "execution_count": null,
   "id": "867ce719",
   "metadata": {},
   "outputs": [],
   "source": []
  },
  {
   "cell_type": "markdown",
   "id": "3a25f1ff",
   "metadata": {},
   "source": [
    "### 2.5 - Turns out we don't like peaches, remove `peach` from `list_of_fruits`."
   ]
  },
  {
   "cell_type": "code",
   "execution_count": null,
   "id": "a48b93e5",
   "metadata": {},
   "outputs": [],
   "source": []
  },
  {
   "cell_type": "markdown",
   "id": "e76ecde6",
   "metadata": {},
   "source": [
    "### 2.6 - Build the same dictionary using comprehension instead of a loop, that is, in one line of code."
   ]
  },
  {
   "cell_type": "code",
   "execution_count": null,
   "id": "77e07b6e",
   "metadata": {},
   "outputs": [],
   "source": []
  },
  {
   "cell_type": "markdown",
   "id": "7276a8ea",
   "metadata": {},
   "source": [
    "### 2.7 - Sum the total number of characters in the list using a for loop."
   ]
  },
  {
   "cell_type": "code",
   "execution_count": null,
   "id": "6f14ce26",
   "metadata": {},
   "outputs": [],
   "source": []
  },
  {
   "cell_type": "markdown",
   "id": "c867cbf0",
   "metadata": {},
   "source": [
    "### 2.8 - Can you do the same with no loop?"
   ]
  },
  {
   "cell_type": "code",
   "execution_count": null,
   "id": "82f13cb2",
   "metadata": {},
   "outputs": [],
   "source": []
  },
  {
   "cell_type": "markdown",
   "id": "3430898d",
   "metadata": {},
   "source": [
    "### 2.9 - Enough with the fruit, modify this function to returns a list comprising each of the factors of a specificed integer.\n",
    "For example, `12` -> `[1, 2, 3, 4, 6, 12]`"
   ]
  },
  {
   "cell_type": "code",
   "execution_count": null,
   "id": "3b59ddbf",
   "metadata": {},
   "outputs": [],
   "source": [
    "def get_factors(x):\n",
    "    factors = []\n",
    "    return factors"
   ]
  },
  {
   "cell_type": "code",
   "execution_count": null,
   "id": "9e30ac31",
   "metadata": {},
   "outputs": [],
   "source": [
    "factors = get_factors(12)\n",
    "print(factors)"
   ]
  },
  {
   "cell_type": "markdown",
   "id": "165b0e1c",
   "metadata": {},
   "source": [
    "### 2.10 - Now can you do the same in one line? Hint: Use a [lambda](https://realpython.com/python-lambda/) function."
   ]
  },
  {
   "cell_type": "code",
   "execution_count": null,
   "id": "0bd8c825",
   "metadata": {},
   "outputs": [],
   "source": [
    "get_factors = lambda x: []"
   ]
  },
  {
   "cell_type": "code",
   "execution_count": null,
   "id": "cbe15d6c",
   "metadata": {},
   "outputs": [],
   "source": [
    "print(get_factors(12))"
   ]
  },
  {
   "cell_type": "markdown",
   "id": "fc86e7dc",
   "metadata": {},
   "source": [
    "### 2.11 - Make a function that produces the initial `x` numbers within the Fibonacci sequence, commencing with 1 (1, 1, 2, 3, 5, 8, 13, 21, ...)."
   ]
  },
  {
   "cell_type": "code",
   "execution_count": null,
   "id": "50f3a719",
   "metadata": {},
   "outputs": [],
   "source": [
    "def fibonacci_sequence(x):\n",
    "    sequence = [1, 1]\n",
    "    return sequence"
   ]
  },
  {
   "cell_type": "code",
   "execution_count": null,
   "id": "6976661a",
   "metadata": {},
   "outputs": [],
   "source": [
    "fibonacci_sequence(10)"
   ]
  },
  {
   "cell_type": "markdown",
   "id": "eb12620e",
   "metadata": {},
   "source": [
    "### 2.12 - Create a [`class`](https://docs.python.org/3/tutorial/classes.html)  which can calculate the initial `x` numbers within the Fibonacci sequence, store it, then print it in graph format.\n",
    "For instance, the first 5 elements of the sequence would be:\n",
    "```\n",
    "#\n",
    "#\n",
    "##\n",
    "###\n",
    "#####\n",
    "```"
   ]
  },
  {
   "cell_type": "code",
   "execution_count": null,
   "id": "c1084a9f",
   "metadata": {},
   "outputs": [],
   "source": [
    "class FibonacciSequence():\n",
    "    def __init__(self, x):\n",
    "        self.x = x\n",
    "        \n",
    "    def calculate(self):\n",
    "        \"\"\"Calculate the Fibonacci sequence.\"\"\"\n",
    "        pass\n",
    "        \n",
    "    def graph(self):\n",
    "        \"\"\"Print the calculated sequence in graph form.\"\"\"\n",
    "        pass"
   ]
  },
  {
   "cell_type": "code",
   "execution_count": null,
   "id": "24fe6280",
   "metadata": {},
   "outputs": [],
   "source": [
    "fib = FibonacciSequence(5)\n",
    "fib.calculate()\n",
    "fib.graph()"
   ]
  },
  {
   "cell_type": "markdown",
   "id": "b47dcd6f",
   "metadata": {},
   "source": [
    "# Part 3 - Numpy"
   ]
  },
  {
   "cell_type": "code",
   "execution_count": null,
   "id": "8d425617",
   "metadata": {},
   "outputs": [],
   "source": [
    "import numpy as np"
   ]
  },
  {
   "cell_type": "markdown",
   "id": "7935f949",
   "metadata": {},
   "source": [
    "### 3.1 - Create an array of size 8 containing only zeros, except the fifth element, which is 1."
   ]
  },
  {
   "cell_type": "code",
   "execution_count": null,
   "id": "bb330754",
   "metadata": {},
   "outputs": [],
   "source": []
  },
  {
   "cell_type": "markdown",
   "id": "c7362740",
   "metadata": {},
   "source": [
    "### 3.2 - Create an array containing only values ranging from 11 to 36."
   ]
  },
  {
   "cell_type": "code",
   "execution_count": null,
   "id": "de3cbda6",
   "metadata": {},
   "outputs": [],
   "source": []
  },
  {
   "cell_type": "markdown",
   "id": "3a04da6a",
   "metadata": {},
   "source": [
    "### 3.3 - Reverse the array you made in the previous question."
   ]
  },
  {
   "cell_type": "code",
   "execution_count": null,
   "id": "6c60f48f",
   "metadata": {},
   "outputs": [],
   "source": []
  },
  {
   "cell_type": "markdown",
   "id": "8fb19803",
   "metadata": {},
   "source": [
    "### 3.4 - Make a 3 by 3 matrix which contains only values 2 to 10."
   ]
  },
  {
   "cell_type": "code",
   "execution_count": null,
   "id": "766e68c7",
   "metadata": {},
   "outputs": [],
   "source": []
  },
  {
   "cell_type": "markdown",
   "id": "7f2a3cbb",
   "metadata": {},
   "source": [
    "### 3.5 - Transform and multiply `A` and `B` such that the result is a 5 by 2 matrix."
   ]
  },
  {
   "cell_type": "code",
   "execution_count": null,
   "id": "f0f64c0f",
   "metadata": {},
   "outputs": [],
   "source": [
    "A = np.ones((3, 5))\n",
    "B = np.ones((3, 2))"
   ]
  },
  {
   "cell_type": "code",
   "execution_count": null,
   "id": "1f49c186",
   "metadata": {},
   "outputs": [],
   "source": []
  },
  {
   "cell_type": "markdown",
   "id": "2cf5303c",
   "metadata": {},
   "source": [
    "### 3.6 - Make an array filled with random values of size 9 and sort it."
   ]
  },
  {
   "cell_type": "code",
   "execution_count": null,
   "id": "d3786479",
   "metadata": {},
   "outputs": [],
   "source": []
  },
  {
   "cell_type": "markdown",
   "id": "b4ef7d30",
   "metadata": {},
   "source": [
    "### 3.7 - Make an 8 by 8 identity matrix."
   ]
  },
  {
   "cell_type": "code",
   "execution_count": null,
   "id": "f4c48246",
   "metadata": {},
   "outputs": [],
   "source": []
  },
  {
   "cell_type": "markdown",
   "id": "4690a945",
   "metadata": {},
   "source": [
    "### 3.8 - Make a matrix filled with random values of size 3 by 3 by 3."
   ]
  },
  {
   "cell_type": "code",
   "execution_count": null,
   "id": "6f269cdf",
   "metadata": {},
   "outputs": [],
   "source": []
  },
  {
   "cell_type": "markdown",
   "id": "31720f93",
   "metadata": {},
   "source": [
    "### 3.9 - Make a matrix filled with random values of size 10 x 10 and find the minimum and maximum values."
   ]
  },
  {
   "cell_type": "code",
   "execution_count": null,
   "id": "03980d67",
   "metadata": {},
   "outputs": [],
   "source": []
  },
  {
   "cell_type": "markdown",
   "id": "bb54667f",
   "metadata": {},
   "source": [
    "### 3.10 - Make a matrix of size 8 by 8 that resembles a chess board with white squares marked as 0, and black squared marked as 1.\n",
    "It will look like,\n",
    "```\n",
    "[[0 1 0 1 0 1 0 1]\n",
    " [1 0 1 0 1 0 1 0]\n",
    " [0 1 0 1 0 1 0 1]\n",
    " [1 0 1 0 1 0 1 0]\n",
    " [0 1 0 1 0 1 0 1]\n",
    " [1 0 1 0 1 0 1 0]\n",
    " [0 1 0 1 0 1 0 1]\n",
    " [1 0 1 0 1 0 1 0]]\n",
    " ```"
   ]
  },
  {
   "cell_type": "code",
   "execution_count": null,
   "id": "2fdf5724",
   "metadata": {},
   "outputs": [],
   "source": []
  },
  {
   "cell_type": "markdown",
   "id": "ae0446e9",
   "metadata": {},
   "source": [
    "### 3.11 - Make a function that takes as input a matrix of all zeros, and places `p` number of 1's in the matrix at random positions."
   ]
  },
  {
   "cell_type": "code",
   "execution_count": null,
   "id": "5f2fe996",
   "metadata": {},
   "outputs": [],
   "source": [
    "def place_randomly(X, p):\n",
    "    return X"
   ]
  },
  {
   "cell_type": "code",
   "execution_count": null,
   "id": "aadf0c19",
   "metadata": {},
   "outputs": [],
   "source": [
    "p = 15\n",
    "X = np.zeros((10, 10))\n",
    "place_randomly(X, p)"
   ]
  },
  {
   "cell_type": "markdown",
   "id": "80239213",
   "metadata": {},
   "source": [
    "### 3.12 - Build the following matrix:\n",
    "```\n",
    "[[0. 1. 2. 3. 4.]\n",
    " [0. 1. 2. 3. 4.]\n",
    " [0. 1. 2. 3. 4.]\n",
    " [0. 1. 2. 3. 4.]\n",
    " [0. 1. 2. 3. 4.]]\n",
    "```"
   ]
  },
  {
   "cell_type": "code",
   "execution_count": null,
   "id": "4517aa94",
   "metadata": {},
   "outputs": [],
   "source": []
  },
  {
   "cell_type": "markdown",
   "id": "f74387bb",
   "metadata": {},
   "source": [
    "### 3.13 - Make a function to find the closest value `v` to a given float in an array `x`."
   ]
  },
  {
   "cell_type": "code",
   "execution_count": null,
   "id": "72987fbb",
   "metadata": {},
   "outputs": [],
   "source": [
    "x = np.arange(100)\n",
    "v = np.random.uniform(0, 100)\n",
    "\n",
    "def find_closest(x, v):\n",
    "    pass"
   ]
  },
  {
   "cell_type": "code",
   "execution_count": null,
   "id": "6fbf827b",
   "metadata": {},
   "outputs": [],
   "source": [
    "closest = find_closest(x, v)\n",
    "print(v, closest)"
   ]
  },
  {
   "cell_type": "markdown",
   "id": "89ffa671",
   "metadata": {},
   "source": [
    "### 3.14 - Build a function to compute the rank of matrix `X`."
   ]
  },
  {
   "cell_type": "code",
   "execution_count": null,
   "id": "10568b9d",
   "metadata": {},
   "outputs": [],
   "source": [
    "X = np.random.uniform(0, 1, (10,10))\n",
    "\n",
    "def calculate_rank(X):\n",
    "    pass"
   ]
  },
  {
   "cell_type": "code",
   "execution_count": null,
   "id": "63489e06",
   "metadata": {},
   "outputs": [],
   "source": [
    "calculate_rank(X)"
   ]
  },
  {
   "cell_type": "markdown",
   "id": "f2707045",
   "metadata": {},
   "source": [
    "# Part 4 - Plotting"
   ]
  },
  {
   "cell_type": "code",
   "execution_count": null,
   "id": "31f2b0ec",
   "metadata": {},
   "outputs": [],
   "source": [
    "import matplotlib.pyplot as plt"
   ]
  },
  {
   "cell_type": "markdown",
   "id": "b6cbe3bc",
   "metadata": {},
   "source": [
    "### 4.1 - Given the following `x` and `y` values, replicate the below plot as close as possible.\n",
    "<img src=' data:image/png;base64,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'>"
   ]
  },
  {
   "cell_type": "code",
   "execution_count": null,
   "id": "251aed98",
   "metadata": {},
   "outputs": [],
   "source": [
    "x = np.arange(20)\n",
    "\n",
    "y0 = np.sin(x / 5)\n",
    "y1 = x ** 2\n",
    "y2 = x\n",
    "y3 = x / (x + 1)"
   ]
  },
  {
   "cell_type": "code",
   "execution_count": null,
   "id": "3f038ffc",
   "metadata": {},
   "outputs": [],
   "source": []
  },
  {
   "cell_type": "markdown",
   "id": "c7d1f3aa",
   "metadata": {},
   "source": [
    "### 4.2 - Take the array `y0` and add some Gaussian noise to it. Plot the area between the 5th and 95th percentiles, aswell as the median to replicate the following:\n",
    "<img src=' data:image/png;base64,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' width='500'>"
   ]
  },
  {
   "cell_type": "code",
   "execution_count": null,
   "id": "123abddf",
   "metadata": {},
   "outputs": [],
   "source": []
  }
 ],
 "metadata": {
  "kernelspec": {
   "display_name": "Python 3 (ipykernel)",
   "language": "python",
   "name": "python3"
  },
  "language_info": {
   "codemirror_mode": {
    "name": "ipython",
    "version": 3
   },
   "file_extension": ".py",
   "mimetype": "text/x-python",
   "name": "python",
   "nbconvert_exporter": "python",
   "pygments_lexer": "ipython3",
   "version": "3.12.4"
  }
 },
 "nbformat": 4,
 "nbformat_minor": 5
}
