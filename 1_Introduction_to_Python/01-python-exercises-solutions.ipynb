{
 "cells": [
  {
   "cell_type": "markdown",
   "id": "0874da7e",
   "metadata": {},
   "source": [
    "# Part 1 - Setup\n",
    "\n",
    "### 1.1 - Install Python\n",
    "Feel free to set up Python in your preferred manner. If you're considering Anaconda, you can refer to the documentation provided at: https://docs.anaconda.com/free/anaconda/install/index.html\n",
    "\n",
    "### 1. 2 - The `python` interpreter\n",
    "- Upon successful installation of Python, you ought to be able to launch the terminal and enter python within the command line.\n",
    "- Experiment with entering various operations to observe their functionality. For instance:\n",
    "    * `2 + 3`\n",
    "    * `2.0 + 3`\n",
    "    * `print(\"hello world\")`\n",
    "- Type `exit()` to exit.\n",
    "\n",
    "### 1.3 - Explore `jupyter notebook`\n",
    "- If you haven't installed Jupyter yet, and want to, one approach is to proceed by following the guidelines outlined here: https://test-jupyter.readthedocs.io/en/latest/install.html\n",
    "- Type `jupyter notebook` to spin up a notebook server.\n",
    "- Chances are, your web browser will open automatically; if it doesn't, simply determine the active port and access it through your browser.\n",
    "\n",
    "### 1.4 - Run a script from the command line\n",
    "- Go to your working directory and make a script named test-script.py.\n",
    "- Craft the necessary code so that executing this script results in printing `Hello World` within the terminal.\n",
    "- Execute the script to observe the outcome."
   ]
  },
  {
   "cell_type": "markdown",
   "id": "8d59e245",
   "metadata": {},
   "source": [
    "# Part 2 - Lists, Dictionaries and Functions\n",
    "\n",
    "### 2.1 - Revise this loop to print a list containing integers ranging from 6 to 10."
   ]
  },
  {
   "cell_type": "code",
   "id": "985d2621",
   "metadata": {
    "ExecuteTime": {
     "end_time": "2024-09-16T16:11:21.430072Z",
     "start_time": "2024-09-16T16:11:21.425427Z"
    }
   },
   "source": [
    "my_list = []\n",
    "for i in range(6, 11):\n",
    "    my_list.append(i)\n",
    "print(my_list)"
   ],
   "outputs": [
    {
     "name": "stdout",
     "output_type": "stream",
     "text": [
      "[6, 7, 8, 9, 10]\n"
     ]
    }
   ],
   "execution_count": 1
  },
  {
   "cell_type": "markdown",
   "id": "f4c2381a",
   "metadata": {},
   "source": [
    "### 2.2 - Do the same with [list comprehension](https://realpython.com/list-comprehension-python/) using one line of code."
   ]
  },
  {
   "cell_type": "code",
   "id": "3c71e317",
   "metadata": {
    "ExecuteTime": {
     "end_time": "2024-09-16T16:11:21.432648Z",
     "start_time": "2024-09-16T16:11:21.430655Z"
    }
   },
   "source": [
    "my_list_2 = [i for i in range(6, 11)]\n",
    "print(my_list_2)"
   ],
   "outputs": [
    {
     "name": "stdout",
     "output_type": "stream",
     "text": [
      "[6, 7, 8, 9, 10]\n"
     ]
    }
   ],
   "execution_count": 2
  },
  {
   "cell_type": "markdown",
   "id": "9dcb3428",
   "metadata": {},
   "source": [
    "### 2.3 - Revise the following to code to print just the 2nd, 3rd, and 4th elements in the list."
   ]
  },
  {
   "cell_type": "code",
   "id": "59df1483",
   "metadata": {
    "ExecuteTime": {
     "end_time": "2024-09-16T16:11:21.435158Z",
     "start_time": "2024-09-16T16:11:21.433232Z"
    }
   },
   "source": [
    "print(my_list_2[1:4])"
   ],
   "outputs": [
    {
     "name": "stdout",
     "output_type": "stream",
     "text": [
      "[7, 8, 9]\n"
     ]
    }
   ],
   "execution_count": 3
  },
  {
   "cell_type": "markdown",
   "id": "5b4a2a2e",
   "metadata": {},
   "source": [
    "### 2.3 - Create a dictionary comprising the number of characters of each word in `list_of_fruits`."
   ]
  },
  {
   "cell_type": "markdown",
   "id": "6d6d93c5",
   "metadata": {},
   "source": [
    "For example, `['apple', 'orange']` -> `{'apple': 5, 'orange': 6}`"
   ]
  },
  {
   "cell_type": "code",
   "id": "c7c457c2",
   "metadata": {
    "ExecuteTime": {
     "end_time": "2024-09-16T16:11:21.439441Z",
     "start_time": "2024-09-16T16:11:21.436059Z"
    }
   },
   "source": [
    "list_of_fruits = ['apple', 'orange', 'pear', 'strawberry', 'peach', 'watermelon', 'pineapple']"
   ],
   "outputs": [],
   "execution_count": 4
  },
  {
   "cell_type": "code",
   "id": "6ca2b18f",
   "metadata": {
    "ExecuteTime": {
     "end_time": "2024-09-16T16:11:21.442069Z",
     "start_time": "2024-09-16T16:11:21.439920Z"
    }
   },
   "source": [
    "num_characters = {}\n",
    "for fruit in list_of_fruits:\n",
    "    num_characters[fruit] = len(fruit)\n",
    "print(num_characters)"
   ],
   "outputs": [
    {
     "name": "stdout",
     "output_type": "stream",
     "text": [
      "{'apple': 5, 'orange': 6, 'pear': 4, 'strawberry': 10, 'peach': 5, 'watermelon': 10, 'pineapple': 9}\n"
     ]
    }
   ],
   "execution_count": 5
  },
  {
   "cell_type": "markdown",
   "id": "6244beaf",
   "metadata": {},
   "source": [
    "### 2.4 - We forgot about bananas, add `bananas` to `list_of_fruits`."
   ]
  },
  {
   "cell_type": "code",
   "id": "2491143b",
   "metadata": {
    "ExecuteTime": {
     "end_time": "2024-09-16T16:11:21.452580Z",
     "start_time": "2024-09-16T16:11:21.449840Z"
    }
   },
   "source": [
    "list_of_fruits.append('bananas')\n",
    "print(list_of_fruits)"
   ],
   "outputs": [
    {
     "name": "stdout",
     "output_type": "stream",
     "text": [
      "['apple', 'orange', 'pear', 'strawberry', 'peach', 'watermelon', 'pineapple', 'bananas']\n"
     ]
    }
   ],
   "execution_count": 6
  },
  {
   "cell_type": "markdown",
   "id": "1ec020aa",
   "metadata": {},
   "source": [
    "### 2.5 - Turns out we don't like peaches, remove `peach` from `list_of_fruits`."
   ]
  },
  {
   "cell_type": "code",
   "id": "acedc531",
   "metadata": {
    "ExecuteTime": {
     "end_time": "2024-09-16T16:11:21.497641Z",
     "start_time": "2024-09-16T16:11:21.495392Z"
    }
   },
   "source": [
    "list_of_fruits.remove('peach')\n",
    "print(list_of_fruits)"
   ],
   "outputs": [
    {
     "name": "stdout",
     "output_type": "stream",
     "text": [
      "['apple', 'orange', 'pear', 'strawberry', 'watermelon', 'pineapple', 'bananas']\n"
     ]
    }
   ],
   "execution_count": 7
  },
  {
   "cell_type": "markdown",
   "id": "442a157d",
   "metadata": {},
   "source": [
    "### 2.6 - Build the same dictionary using comprehension instead of a loop, that is, in one line of code."
   ]
  },
  {
   "cell_type": "code",
   "id": "4228f38e",
   "metadata": {
    "ExecuteTime": {
     "end_time": "2024-09-16T16:11:21.510606Z",
     "start_time": "2024-09-16T16:11:21.507966Z"
    }
   },
   "source": [
    "num_characters = {fruit: len(fruit) for fruit in list_of_fruits}\n",
    "print(num_characters)"
   ],
   "outputs": [
    {
     "name": "stdout",
     "output_type": "stream",
     "text": [
      "{'apple': 5, 'orange': 6, 'pear': 4, 'strawberry': 10, 'watermelon': 10, 'pineapple': 9, 'bananas': 7}\n"
     ]
    }
   ],
   "execution_count": 8
  },
  {
   "cell_type": "markdown",
   "id": "19551f53",
   "metadata": {},
   "source": [
    "### 2.7 - Sum the total number of characters in the list using a for loop."
   ]
  },
  {
   "cell_type": "code",
   "id": "dccd8599",
   "metadata": {
    "ExecuteTime": {
     "end_time": "2024-09-16T16:11:21.525409Z",
     "start_time": "2024-09-16T16:11:21.523017Z"
    }
   },
   "source": [
    "total = 0\n",
    "for fruit in list_of_fruits:\n",
    "    total += num_characters[fruit]\n",
    "print(total)"
   ],
   "outputs": [
    {
     "name": "stdout",
     "output_type": "stream",
     "text": [
      "51\n"
     ]
    }
   ],
   "execution_count": 9
  },
  {
   "cell_type": "markdown",
   "id": "197f2b5b",
   "metadata": {},
   "source": [
    "### 2.8 - Can you do the same with no loop?"
   ]
  },
  {
   "cell_type": "code",
   "id": "fcfb990e",
   "metadata": {
    "ExecuteTime": {
     "end_time": "2024-09-16T16:11:21.565965Z",
     "start_time": "2024-09-16T16:11:21.561764Z"
    }
   },
   "source": [
    "print(num_characters.values())\n",
    "sum(num_characters.values())"
   ],
   "outputs": [
    {
     "name": "stdout",
     "output_type": "stream",
     "text": [
      "dict_values([5, 6, 4, 10, 10, 9, 7])\n"
     ]
    },
    {
     "data": {
      "text/plain": [
       "51"
      ]
     },
     "execution_count": 10,
     "metadata": {},
     "output_type": "execute_result"
    }
   ],
   "execution_count": 10
  },
  {
   "cell_type": "markdown",
   "id": "d86d1e5d",
   "metadata": {},
   "source": [
    "### 2.9 - Enough with the fruit, make a function that returns a list comprising each of the factors of a specificed integer.\n",
    "For example, `12` -> `[1, 2, 3, 4, 6, 12]`"
   ]
  },
  {
   "cell_type": "code",
   "id": "83be7c16",
   "metadata": {
    "ExecuteTime": {
     "end_time": "2024-09-16T16:11:21.577768Z",
     "start_time": "2024-09-16T16:11:21.575614Z"
    }
   },
   "source": [
    "def get_factors(x):\n",
    "    factors = []\n",
    "    for i in range(1, x+1):\n",
    "        if x % i == 0:\n",
    "            factors.append(i)\n",
    "    return factors"
   ],
   "outputs": [],
   "execution_count": 11
  },
  {
   "cell_type": "code",
   "id": "65fc0259",
   "metadata": {
    "ExecuteTime": {
     "end_time": "2024-09-16T16:11:21.591423Z",
     "start_time": "2024-09-16T16:11:21.588806Z"
    }
   },
   "source": [
    "factors = get_factors(12)\n",
    "print(factors)"
   ],
   "outputs": [
    {
     "name": "stdout",
     "output_type": "stream",
     "text": [
      "[1, 2, 3, 4, 6, 12]\n"
     ]
    }
   ],
   "execution_count": 12
  },
  {
   "cell_type": "markdown",
   "id": "a686f046",
   "metadata": {},
   "source": [
    "### 2.10 - Now can you do the same in one line?"
   ]
  },
  {
   "cell_type": "code",
   "id": "aba0a2b5",
   "metadata": {
    "ExecuteTime": {
     "end_time": "2024-09-16T16:11:21.632033Z",
     "start_time": "2024-09-16T16:11:21.629667Z"
    }
   },
   "source": [
    "get_factors = lambda  x: [i for i in range(1, x + 1) if x % i == 0]"
   ],
   "outputs": [],
   "execution_count": 13
  },
  {
   "cell_type": "code",
   "id": "bfaf02bf",
   "metadata": {
    "ExecuteTime": {
     "end_time": "2024-09-16T16:11:21.650549Z",
     "start_time": "2024-09-16T16:11:21.648396Z"
    }
   },
   "source": [
    "print(get_factors(12))"
   ],
   "outputs": [
    {
     "name": "stdout",
     "output_type": "stream",
     "text": [
      "[1, 2, 3, 4, 6, 12]\n"
     ]
    }
   ],
   "execution_count": 14
  },
  {
   "cell_type": "markdown",
   "id": "a924520c",
   "metadata": {},
   "source": [
    "### 2.11 - Make a function that produces the initial `x` numbers within the Fibonacci sequence, commencing with 1 (1, 1, 2, 3, 5, 8, 13, 21, ...)."
   ]
  },
  {
   "cell_type": "code",
   "id": "1e4189cf",
   "metadata": {
    "ExecuteTime": {
     "end_time": "2024-09-16T16:11:21.661184Z",
     "start_time": "2024-09-16T16:11:21.658656Z"
    }
   },
   "source": [
    "def fibonacci_sequence(x):\n",
    "    sequence = [1, 1]\n",
    "    while len(sequence) < x:\n",
    "        sequence.append(sequence[-1] + sequence[-2])\n",
    "    return sequence"
   ],
   "outputs": [],
   "execution_count": 15
  },
  {
   "cell_type": "code",
   "id": "455602f1",
   "metadata": {
    "ExecuteTime": {
     "end_time": "2024-09-16T16:11:21.683996Z",
     "start_time": "2024-09-16T16:11:21.681164Z"
    }
   },
   "source": [
    "fibonacci_sequence(10)"
   ],
   "outputs": [
    {
     "data": {
      "text/plain": [
       "[1, 1, 2, 3, 5, 8, 13, 21, 34, 55]"
      ]
     },
     "execution_count": 16,
     "metadata": {},
     "output_type": "execute_result"
    }
   ],
   "execution_count": 16
  },
  {
   "cell_type": "markdown",
   "id": "6d06e4e6",
   "metadata": {},
   "source": [
    "### 2.12 - Create a [`class`](https://docs.python.org/3/tutorial/classes.html)  which can calculate the initial `x` numbers within the Fibonacci sequence, store it, then print it in graph format.\n",
    "For instance, the first 5 elements of the sequence would be:\n",
    "```\n",
    "#\n",
    "#\n",
    "##\n",
    "###\n",
    "#####\n",
    "```"
   ]
  },
  {
   "cell_type": "code",
   "id": "d613a3c5",
   "metadata": {
    "ExecuteTime": {
     "end_time": "2024-09-16T16:11:21.702920Z",
     "start_time": "2024-09-16T16:11:21.699903Z"
    }
   },
   "source": [
    "class FibonacciSequence():\n",
    "    def __init__(self, x):\n",
    "        self.x = x\n",
    "        \n",
    "    def calculate(self):\n",
    "        \"\"\"Calculate the Fibonacci sequence.\"\"\"\n",
    "        sequence = [1, 1]\n",
    "        while len(sequence) < self.x:\n",
    "            sequence.append(sequence[-1] + sequence[-2])\n",
    "        self.sequence = sequence\n",
    "        \n",
    "    def graph(self):\n",
    "        \"\"\"Print the calculated sequence in graph form.\"\"\"\n",
    "        for i in self.sequence:\n",
    "            print('#' * i)"
   ],
   "outputs": [],
   "execution_count": 17
  },
  {
   "cell_type": "code",
   "id": "790c48b3",
   "metadata": {
    "ExecuteTime": {
     "end_time": "2024-09-16T16:11:21.706756Z",
     "start_time": "2024-09-16T16:11:21.705018Z"
    }
   },
   "source": [
    "fib = FibonacciSequence(5)\n",
    "fib.calculate()\n",
    "fib.graph()"
   ],
   "outputs": [
    {
     "name": "stdout",
     "output_type": "stream",
     "text": [
      "#\n",
      "#\n",
      "##\n",
      "###\n",
      "#####\n"
     ]
    }
   ],
   "execution_count": 18
  },
  {
   "cell_type": "markdown",
   "id": "17733a72",
   "metadata": {},
   "source": [
    "# Part 3 - Numpy"
   ]
  },
  {
   "cell_type": "code",
   "id": "93349f1c",
   "metadata": {
    "ExecuteTime": {
     "end_time": "2024-09-16T16:11:21.775543Z",
     "start_time": "2024-09-16T16:11:21.730571Z"
    }
   },
   "source": [
    "import numpy as np"
   ],
   "outputs": [],
   "execution_count": 19
  },
  {
   "cell_type": "markdown",
   "id": "ec84c64c",
   "metadata": {},
   "source": [
    "### 3.1 - Create an array of size 8 containing only zeros, except the fifth element, which is 1."
   ]
  },
  {
   "cell_type": "code",
   "id": "9b7a5108",
   "metadata": {
    "ExecuteTime": {
     "end_time": "2024-09-16T16:11:21.778602Z",
     "start_time": "2024-09-16T16:11:21.776435Z"
    }
   },
   "source": [
    "x = np.zeros(10)\n",
    "x[4] = 1\n",
    "print(x)"
   ],
   "outputs": [
    {
     "name": "stdout",
     "output_type": "stream",
     "text": [
      "[0. 0. 0. 0. 1. 0. 0. 0. 0. 0.]\n"
     ]
    }
   ],
   "execution_count": 20
  },
  {
   "cell_type": "markdown",
   "id": "60b13f4c",
   "metadata": {},
   "source": [
    "### 3.2 - Create an array containing only values ranging from 11 to 36."
   ]
  },
  {
   "cell_type": "code",
   "id": "af8dc0b6",
   "metadata": {
    "ExecuteTime": {
     "end_time": "2024-09-16T16:11:21.781738Z",
     "start_time": "2024-09-16T16:11:21.779069Z"
    }
   },
   "source": [
    "x = np.arange(11, 37)\n",
    "x"
   ],
   "outputs": [
    {
     "data": {
      "text/plain": [
       "array([11, 12, 13, 14, 15, 16, 17, 18, 19, 20, 21, 22, 23, 24, 25, 26, 27,\n",
       "       28, 29, 30, 31, 32, 33, 34, 35, 36])"
      ]
     },
     "execution_count": 21,
     "metadata": {},
     "output_type": "execute_result"
    }
   ],
   "execution_count": 21
  },
  {
   "cell_type": "markdown",
   "id": "06b6797c",
   "metadata": {},
   "source": [
    "### 3.3 - Reverse the array you made in the previous question."
   ]
  },
  {
   "cell_type": "code",
   "id": "46f98e54",
   "metadata": {
    "ExecuteTime": {
     "end_time": "2024-09-16T16:11:21.792120Z",
     "start_time": "2024-09-16T16:11:21.789188Z"
    }
   },
   "source": [
    "x[::-1]"
   ],
   "outputs": [
    {
     "data": {
      "text/plain": [
       "array([36, 35, 34, 33, 32, 31, 30, 29, 28, 27, 26, 25, 24, 23, 22, 21, 20,\n",
       "       19, 18, 17, 16, 15, 14, 13, 12, 11])"
      ]
     },
     "execution_count": 22,
     "metadata": {},
     "output_type": "execute_result"
    }
   ],
   "execution_count": 22
  },
  {
   "cell_type": "markdown",
   "id": "47cebeb2",
   "metadata": {},
   "source": [
    "### 3.4 - Make a 3 by 3 matrix which contains only values 2 to 10."
   ]
  },
  {
   "cell_type": "code",
   "id": "fe2ad981",
   "metadata": {
    "ExecuteTime": {
     "end_time": "2024-09-16T16:11:21.800926Z",
     "start_time": "2024-09-16T16:11:21.797798Z"
    }
   },
   "source": [
    "x = np.arange(2, 11).reshape(3, 3)\n",
    "print(x)"
   ],
   "outputs": [
    {
     "name": "stdout",
     "output_type": "stream",
     "text": [
      "[[ 2  3  4]\n",
      " [ 5  6  7]\n",
      " [ 8  9 10]]\n"
     ]
    }
   ],
   "execution_count": 23
  },
  {
   "cell_type": "markdown",
   "id": "e98c35a2",
   "metadata": {},
   "source": [
    "### 3.5 - Transform and multiply `A` and `B` such that the result is a 5 by 2 matrix."
   ]
  },
  {
   "cell_type": "code",
   "id": "3d9d57a1",
   "metadata": {
    "ExecuteTime": {
     "end_time": "2024-09-16T16:11:21.810402Z",
     "start_time": "2024-09-16T16:11:21.808485Z"
    }
   },
   "source": [
    "A = np.ones((3, 5))\n",
    "B = np.ones((3,2))"
   ],
   "outputs": [],
   "execution_count": 24
  },
  {
   "cell_type": "code",
   "id": "99ca0617",
   "metadata": {
    "jupyter": {
     "is_executing": true
    }
   },
   "source": [
    "C = A.T @ B\n",
    "print(C.shape)"
   ],
   "outputs": [],
   "execution_count": null
  },
  {
   "cell_type": "markdown",
   "id": "80e6869d",
   "metadata": {},
   "source": [
    "### 3.6 - Make an array filled with random values of size 9 and sort it."
   ]
  },
  {
   "cell_type": "code",
   "id": "ed78fee8",
   "metadata": {
    "jupyter": {
     "is_executing": true
    }
   },
   "source": [
    "x = np.random.random(9)\n",
    "x.sort()\n",
    "print(x)"
   ],
   "outputs": [],
   "execution_count": null
  },
  {
   "cell_type": "markdown",
   "id": "427ca41b",
   "metadata": {},
   "source": [
    "### 3.7 - Make an 8 by 8 identity matrix."
   ]
  },
  {
   "cell_type": "code",
   "id": "d91cbb8e",
   "metadata": {
    "jupyter": {
     "is_executing": true
    }
   },
   "source": [
    "I = np.eye(8)\n",
    "print(I)"
   ],
   "outputs": [],
   "execution_count": null
  },
  {
   "cell_type": "markdown",
   "id": "4f97fb3a",
   "metadata": {},
   "source": [
    "### 3.8 - Make a matrix filled with random values of size 3 by 3 by 3."
   ]
  },
  {
   "cell_type": "code",
   "id": "1a687c61",
   "metadata": {
    "jupyter": {
     "is_executing": true
    }
   },
   "source": [
    "X = np.random.random((3,3,3))\n",
    "print(X)"
   ],
   "outputs": [],
   "execution_count": null
  },
  {
   "cell_type": "markdown",
   "id": "89c28932",
   "metadata": {},
   "source": [
    "### 3.9 - Make a matrix filled with random values of size 10 x 10 and find the minimum and maximum values."
   ]
  },
  {
   "cell_type": "code",
   "id": "4f075d7c",
   "metadata": {
    "jupyter": {
     "is_executing": true
    }
   },
   "source": [
    "X = np.random.random((10,10))\n",
    "X_min, X_max = X.min(), X.max()\n",
    "print(X_min, X_max)"
   ],
   "outputs": [],
   "execution_count": null
  },
  {
   "cell_type": "markdown",
   "id": "e9a1a7b3",
   "metadata": {},
   "source": [
    "### 3.10 - Make a matrix of size 8 by 8 that resembles a chess board with white squares marked as 0, and black squared marked as 1.\n",
    "It will look like,\n",
    "```\n",
    "[[0 1 0 1 0 1 0 1]\n",
    " [1 0 1 0 1 0 1 0]\n",
    " [0 1 0 1 0 1 0 1]\n",
    " [1 0 1 0 1 0 1 0]\n",
    " [0 1 0 1 0 1 0 1]\n",
    " [1 0 1 0 1 0 1 0]\n",
    " [0 1 0 1 0 1 0 1]\n",
    " [1 0 1 0 1 0 1 0]]\n",
    " ```"
   ]
  },
  {
   "cell_type": "code",
   "id": "ba8963ab",
   "metadata": {
    "jupyter": {
     "is_executing": true
    }
   },
   "source": [
    "chess_board = np.zeros((8,8), dtype=int)\n",
    "chess_board[1::2, ::2] = 1\n",
    "chess_board[::2, 1::2] = 1\n",
    "print(chess_board)"
   ],
   "outputs": [],
   "execution_count": null
  },
  {
   "cell_type": "markdown",
   "id": "b6c97e3b",
   "metadata": {},
   "source": [
    "### 3.11 - Make a function that takes as input a matrix of all zeros, and places `p` number of 1's in the matrix at random positions."
   ]
  },
  {
   "cell_type": "code",
   "id": "306b3024",
   "metadata": {
    "jupyter": {
     "is_executing": true
    }
   },
   "source": [
    "def place_randomly(X, p):\n",
    "    indices = np.random.choice(range(len(X)*len(X)), p, replace=False)\n",
    "    np.put(X, indices, 1)\n",
    "    return X"
   ],
   "outputs": [],
   "execution_count": null
  },
  {
   "cell_type": "code",
   "id": "1a7fab02",
   "metadata": {
    "jupyter": {
     "is_executing": true
    }
   },
   "source": [
    "p = 15\n",
    "X = np.zeros((10, 10))\n",
    "place_randomly(X, p)"
   ],
   "outputs": [],
   "execution_count": null
  },
  {
   "cell_type": "markdown",
   "id": "bafb36c6",
   "metadata": {},
   "source": [
    "### 3.12 - Build the following matrix:\n",
    "```\n",
    "[[0. 1. 2. 3. 4.]\n",
    " [0. 1. 2. 3. 4.]\n",
    " [0. 1. 2. 3. 4.]\n",
    " [0. 1. 2. 3. 4.]\n",
    " [0. 1. 2. 3. 4.]]\n",
    "```"
   ]
  },
  {
   "cell_type": "code",
   "id": "6b3b4848",
   "metadata": {
    "jupyter": {
     "is_executing": true
    }
   },
   "source": [
    "X = np.zeros((5, 5))\n",
    "X += np.arange(5)\n",
    "print(X)"
   ],
   "outputs": [],
   "execution_count": null
  },
  {
   "cell_type": "markdown",
   "id": "b8775651",
   "metadata": {},
   "source": [
    "### 3.13 - Make a function to find the closest value `v` to a given float in an array `x`."
   ]
  },
  {
   "cell_type": "code",
   "id": "ad7b50e4",
   "metadata": {
    "jupyter": {
     "is_executing": true
    }
   },
   "source": [
    "x = np.arange(100)\n",
    "v = np.random.uniform(0, 100)\n",
    "\n",
    "def find_closest(x, v):\n",
    "    index = (np.abs(x - v)).argmin()\n",
    "    print(np.abs(x - v))\n",
    "    return x[index]"
   ],
   "outputs": [],
   "execution_count": null
  },
  {
   "cell_type": "code",
   "id": "c3e929ae",
   "metadata": {
    "jupyter": {
     "is_executing": true
    }
   },
   "source": [
    "closest = find_closest(x, v)\n",
    "print(v, closest)"
   ],
   "outputs": [],
   "execution_count": null
  },
  {
   "cell_type": "markdown",
   "id": "c0a7d233",
   "metadata": {},
   "source": [
    "### 3.14 - Build a function to compute the rank of matrix `X`."
   ]
  },
  {
   "cell_type": "code",
   "id": "913dec21",
   "metadata": {
    "jupyter": {
     "is_executing": true
    }
   },
   "source": [
    "# %%"
   ],
   "outputs": [],
   "execution_count": null
  },
  {
   "cell_type": "code",
   "id": "bec1347c",
   "metadata": {
    "jupyter": {
     "is_executing": true
    }
   },
   "source": [
    "X = np.random.uniform(0, 1, (10,10))\n",
    "\n",
    "def calculate_rank(X):\n",
    "    _, S, _ = np.linalg.svd(X) # Singular Value Decomposition\n",
    "    rank = np.sum(S > 0) # Total number of non zero eigenvalues\n",
    "    return rank"
   ],
   "outputs": [],
   "execution_count": null
  },
  {
   "cell_type": "code",
   "id": "1fb00bde",
   "metadata": {
    "jupyter": {
     "is_executing": true
    }
   },
   "source": [
    "calculate_rank(X)"
   ],
   "outputs": [],
   "execution_count": null
  },
  {
   "cell_type": "markdown",
   "id": "d0367193",
   "metadata": {},
   "source": [
    "# Part 4 - Plotting"
   ]
  },
  {
   "cell_type": "code",
   "id": "5293db75",
   "metadata": {
    "jupyter": {
     "is_executing": true
    }
   },
   "source": [
    "import matplotlib.pyplot as plt"
   ],
   "outputs": [],
   "execution_count": null
  },
  {
   "cell_type": "markdown",
   "id": "74d28325",
   "metadata": {},
   "source": [
    "### 4.1 - Given the following `x` and `y` values, replicate the below plot as close as possible.\n",
    "\n",
    "<img src='img/plot4_1.png' width='800'>\n",
    "\n"
   ]
  },
  {
   "cell_type": "code",
   "id": "c45f4529",
   "metadata": {
    "jupyter": {
     "is_executing": true
    }
   },
   "source": [
    "x = np.arange(20)\n",
    "\n",
    "y0 = np.sin(x / 5)\n",
    "y1 = x ** 2\n",
    "y2 = x\n",
    "y3 = x / (x + 1)"
   ],
   "outputs": [],
   "execution_count": null
  },
  {
   "cell_type": "code",
   "id": "110e5e97",
   "metadata": {
    "jupyter": {
     "is_executing": true
    }
   },
   "source": [
    "fig, axs = plt.subplots(2, 2, figsize=(10, 5), dpi=300)\n",
    "\n",
    "\n",
    "ys = [y0, y1, y2, y3]\n",
    "colors = [\"red\", \"green\", \"orange\", \"blue\"]\n",
    "markers = [\"*\", \"s\", \"x\", \"o\"]\n",
    "\n",
    "for i, (y, ax, color, marker) in enumerate(zip(ys, axs.flatten(), colors, markers)):\n",
    "    \n",
    "    ax.plot(x, y, marker=marker, color=color, lw=0.5, markersize=8)\n",
    "    ax.set_title(f\"y{i}\")\n",
    "    ax.set_xlabel(\"x\")\n",
    "    ax.set_ylabel(\"y\")\n",
    "    \n",
    "fig.tight_layout()\n",
    "fig.suptitle(\"The four elements of y\", size=12, y=1.02)\n",
    "plt.show()"
   ],
   "outputs": [],
   "execution_count": null
  },
  {
   "cell_type": "markdown",
   "id": "f2862cb4",
   "metadata": {},
   "source": [
    "### 4.2 - Take the array `y0` and add some Gaussian noise to it. Plot the area between the 5th and 95th percentiles, aswell as the median to replicate the following:\n",
    "<img src=' data:image/png;base64,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' width='500'>\n"
   ]
  },
  {
   "cell_type": "code",
   "id": "8f73f023",
   "metadata": {
    "jupyter": {
     "is_executing": true
    }
   },
   "source": [
    "num_samples = len(y0)\n",
    "sample_size = 50\n",
    "\n",
    "x = np.arange(num_samples)\n",
    "\n",
    "data = np.random.normal(0, 0.3, size=(num_samples, sample_size))\n",
    "\n",
    "q95 = np.quantile(data, q=0.95, axis=1) + y0\n",
    "q05 = np.quantile(data, q=0.05, axis=1) + y0\n",
    "q50 = np.quantile(data, q=0.5, axis=1) + y0\n",
    "\n",
    "fig, ax = plt.subplots(figsize=(4, 2.5), dpi=300)\n",
    "\n",
    "ax.fill_between(x, q95, q05, alpha=0.6, color=\"C0\", label=\"95% Int.\")\n",
    "ax.plot(x, q50, color=\"C0\", label=\"Median\")\n",
    "ax.set_xlabel(\"x\")\n",
    "ax.set_ylabel(\"y\")\n",
    "ax.legend()\n",
    "plt.show()"
   ],
   "outputs": [],
   "execution_count": null
  },
  {
   "cell_type": "code",
   "id": "ab5bfdcf",
   "metadata": {
    "jupyter": {
     "is_executing": true
    }
   },
   "source": [],
   "outputs": [],
   "execution_count": null
  }
 ],
 "metadata": {
  "kernelspec": {
   "display_name": "Python 3 (ipykernel)",
   "language": "python",
   "name": "python3"
  },
  "language_info": {
   "codemirror_mode": {
    "name": "ipython",
    "version": 3
   },
   "file_extension": ".py",
   "mimetype": "text/x-python",
   "name": "python",
   "nbconvert_exporter": "python",
   "pygments_lexer": "ipython3",
   "version": "3.11.4"
  }
 },
 "nbformat": 4,
 "nbformat_minor": 5
}
